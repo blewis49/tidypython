{
 "cells": [
  {
   "cell_type": "code",
   "execution_count": 1,
   "metadata": {},
   "outputs": [],
   "source": [
    "import pandas as pd"
   ]
  },
  {
   "cell_type": "code",
   "execution_count": 19,
   "metadata": {},
   "outputs": [
    {
     "name": "stdout",
     "output_type": "stream",
     "text": [
      "<class 'pandas.core.frame.DataFrame'>\n",
      "RangeIndex: 74 entries, 0 to 73\n",
      "Data columns (total 19 columns):\n",
      "agency                74 non-null object\n",
      "count                 74 non-null int64\n",
      "ucode                 74 non-null object\n",
      "state_code            74 non-null object\n",
      "type                  74 non-null object\n",
      "class                 74 non-null object\n",
      "tstart                74 non-null object\n",
      "tstop                 74 non-null object\n",
      "short_name            74 non-null object\n",
      "name                  74 non-null object\n",
      "location              74 non-null object\n",
      "longitude             74 non-null object\n",
      "latitude              74 non-null object\n",
      "error                 74 non-null object\n",
      "parent                74 non-null object\n",
      "short_english_name    74 non-null object\n",
      "english_name          74 non-null object\n",
      "unicode_name          74 non-null object\n",
      "agency_type           74 non-null object\n",
      "dtypes: int64(1), object(18)\n",
      "memory usage: 11.1+ KB\n"
     ]
    }
   ],
   "source": [
    "agencies = pd.read_csv('https://raw.githubusercontent.com/rfordatascience/tidytuesday/master/data/2019/2019-01-15/agencies.csv')\n",
    "agencies.info()"
   ]
  },
  {
   "cell_type": "code",
   "execution_count": 104,
   "metadata": {},
   "outputs": [
    {
     "name": "stdout",
     "output_type": "stream",
     "text": [
      "<class 'pandas.core.frame.DataFrame'>\n",
      "RangeIndex: 5726 entries, 0 to 5725\n",
      "Data columns (total 11 columns):\n",
      "tag            5726 non-null object\n",
      "JD             5726 non-null float64\n",
      "launch_date    5713 non-null object\n",
      "launch_year    5726 non-null int64\n",
      "type           5726 non-null object\n",
      "variant        745 non-null object\n",
      "mission        5705 non-null object\n",
      "agency         3282 non-null object\n",
      "state_code     5726 non-null object\n",
      "category       5726 non-null object\n",
      "agency_type    5726 non-null object\n",
      "dtypes: float64(1), int64(1), object(9)\n",
      "memory usage: 492.2+ KB\n"
     ]
    }
   ],
   "source": [
    "launches = pd.read_csv('https://raw.githubusercontent.com/rfordatascience/tidytuesday/master/data/2019/2019-01-15/launches.csv')\n",
    "launches.info()"
   ]
  },
  {
   "cell_type": "code",
   "execution_count": 62,
   "metadata": {},
   "outputs": [
    {
     "data": {
      "text/plain": [
       "agency_type  state_code\n",
       "state        SU            2442\n",
       "             US            1201\n",
       "             RU             618\n",
       "private      US             441\n",
       "state        CN             296\n",
       "private      F              278\n",
       "             RU             115\n",
       "state        J               78\n",
       "startup      US              67\n",
       "state        IN              64\n",
       "private      J               36\n",
       "state        I-ESA           13\n",
       "             F               11\n",
       "             IL              10\n",
       "             I                9\n",
       "             IR               8\n",
       "             KP               5\n",
       "private      CYM              4\n",
       "state        KR               3\n",
       "             I-ELDO           3\n",
       "             BR               2\n",
       "             UK               2\n",
       "Name: count, dtype: int64"
      ]
     },
     "execution_count": 62,
     "metadata": {},
     "output_type": "execute_result"
    }
   ],
   "source": [
    "agencies.agency.nunique()\n",
    "agencies.groupby(['agency_type','state_code'])['count'].sum().sort_values(ascending=False)"
   ]
  },
  {
   "cell_type": "code",
   "execution_count": 135,
   "metadata": {},
   "outputs": [
    {
     "data": {
      "text/html": [
       "<div>\n",
       "<style scoped>\n",
       "    .dataframe tbody tr th:only-of-type {\n",
       "        vertical-align: middle;\n",
       "    }\n",
       "\n",
       "    .dataframe tbody tr th {\n",
       "        vertical-align: top;\n",
       "    }\n",
       "\n",
       "    .dataframe thead th {\n",
       "        text-align: right;\n",
       "    }\n",
       "</style>\n",
       "<table border=\"1\" class=\"dataframe\">\n",
       "  <thead>\n",
       "    <tr style=\"text-align: right;\">\n",
       "      <th></th>\n",
       "      <th>Launch_Year</th>\n",
       "      <th>Agency_Type</th>\n",
       "      <th>Count</th>\n",
       "    </tr>\n",
       "  </thead>\n",
       "  <tbody>\n",
       "    <tr>\n",
       "      <th>0</th>\n",
       "      <td>1957</td>\n",
       "      <td>state</td>\n",
       "      <td>3</td>\n",
       "    </tr>\n",
       "    <tr>\n",
       "      <th>1</th>\n",
       "      <td>1958</td>\n",
       "      <td>state</td>\n",
       "      <td>27</td>\n",
       "    </tr>\n",
       "    <tr>\n",
       "      <th>2</th>\n",
       "      <td>1959</td>\n",
       "      <td>state</td>\n",
       "      <td>22</td>\n",
       "    </tr>\n",
       "    <tr>\n",
       "      <th>3</th>\n",
       "      <td>1960</td>\n",
       "      <td>state</td>\n",
       "      <td>37</td>\n",
       "    </tr>\n",
       "    <tr>\n",
       "      <th>4</th>\n",
       "      <td>1961</td>\n",
       "      <td>state</td>\n",
       "      <td>50</td>\n",
       "    </tr>\n",
       "  </tbody>\n",
       "</table>\n",
       "</div>"
      ],
      "text/plain": [
       "   Launch_Year Agency_Type  Count\n",
       "0         1957       state      3\n",
       "1         1958       state     27\n",
       "2         1959       state     22\n",
       "3         1960       state     37\n",
       "4         1961       state     50"
      ]
     },
     "execution_count": 135,
     "metadata": {},
     "output_type": "execute_result"
    }
   ],
   "source": [
    "launches.state_code.value_counts(sort=True)\n",
    "df = pd.DataFrame(launches.groupby(['launch_year','agency_type'])['agency_type'].count())\n",
    "\n",
    "df1 = df.stack().reset_index()\n",
    "df1.columns = ['Launch_Year','Agency_Type', 'Category','Count']\n",
    "df1.drop(['Category'], axis = 1, inplace=True)\n",
    "df1.head()"
   ]
  },
  {
   "cell_type": "code",
   "execution_count": 142,
   "metadata": {},
   "outputs": [
    {
     "data": {
      "image/png": "[encoded data removed]",
      "text/plain": [
       "<Figure size 432x288 with 1 Axes>"
      ]
     },
     "metadata": {},
     "output_type": "display_data"
    }
   ],
   "source": [
    "import matplotlib.pyplot as plt\n",
    "\n",
    "#df1['Launch_Year'] = pd.to_datetime(df1['Launch_Year'])\n",
    "\n",
    "#df1.plot(x='Launch_Year',y='Count')\n",
    "df1.plot(x='Launch_Year', y = 'Count')\n",
    "plt.show()"
   ]
  }
 ],
 "metadata": {
  "kernelspec": {
   "display_name": "Python 3",
   "language": "python",
   "name": "python3"
  },
  "language_info": {
   "codemirror_mode": {
    "name": "ipython",
    "version": 3
   },
   "file_extension": ".py",
   "mimetype": "text/x-python",
   "name": "python",
   "nbconvert_exporter": "python",
   "pygments_lexer": "ipython3",
   "version": "3.6.5"
  }
 },
 "nbformat": 4,
 "nbformat_minor": 2
}
