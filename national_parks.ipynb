{
 "cells": [
  {
   "cell_type": "markdown",
   "metadata": {},
   "source": [
    "# Tidy Tuesday in Python: \n",
    "## National Park Visits\n",
    "### 18 September 2019"
   ]
  },
  {
   "cell_type": "code",
   "execution_count": 94,
   "metadata": {},
   "outputs": [],
   "source": [
    "import pandas as pd\n",
    "import numpy as np\n",
    "import matplotlib.pyplot as plt\n",
    "import seaborn as sns"
   ]
  },
  {
   "cell_type": "markdown",
   "metadata": {},
   "source": [
    "## 1.  Data Import "
   ]
  },
  {
   "cell_type": "code",
   "execution_count": null,
   "metadata": {},
   "outputs": [],
   "source": [
    "gp = pd.read_csv('gas_price.csv')\n",
    "nps = pd.read_csv('national_parks.csv')\n",
    "sp = pd.read_csv('state_pop.csv')"
   ]
  },
  {
   "cell_type": "markdown",
   "metadata": {},
   "source": [
    "## Set options to format number values"
   ]
  },
  {
   "cell_type": "code",
   "execution_count": null,
   "metadata": {},
   "outputs": [],
   "source": [
    "pd.options.display.float_format = '{:,.2f}'.format"
   ]
  },
  {
   "cell_type": "markdown",
   "metadata": {},
   "source": [
    "## 2. Data Exploration"
   ]
  },
  {
   "cell_type": "code",
   "execution_count": 66,
   "metadata": {},
   "outputs": [
    {
     "data": {
      "text/html": [
       "<div>\n",
       "<style scoped>\n",
       "    .dataframe tbody tr th:only-of-type {\n",
       "        vertical-align: middle;\n",
       "    }\n",
       "\n",
       "    .dataframe tbody tr th {\n",
       "        vertical-align: top;\n",
       "    }\n",
       "\n",
       "    .dataframe thead th {\n",
       "        text-align: right;\n",
       "    }\n",
       "</style>\n",
       "<table border=\"1\" class=\"dataframe\">\n",
       "  <thead>\n",
       "    <tr style=\"text-align: right;\">\n",
       "      <th></th>\n",
       "      <th>year</th>\n",
       "      <th>state</th>\n",
       "      <th>pop</th>\n",
       "    </tr>\n",
       "  </thead>\n",
       "  <tbody>\n",
       "    <tr>\n",
       "      <td>5911</td>\n",
       "      <td>2011</td>\n",
       "      <td>DC</td>\n",
       "      <td>620,427.00</td>\n",
       "    </tr>\n",
       "    <tr>\n",
       "      <td>5912</td>\n",
       "      <td>2012</td>\n",
       "      <td>DC</td>\n",
       "      <td>635,040.00</td>\n",
       "    </tr>\n",
       "    <tr>\n",
       "      <td>5913</td>\n",
       "      <td>2013</td>\n",
       "      <td>DC</td>\n",
       "      <td>649,111.00</td>\n",
       "    </tr>\n",
       "    <tr>\n",
       "      <td>5914</td>\n",
       "      <td>2014</td>\n",
       "      <td>DC</td>\n",
       "      <td>658,893.00</td>\n",
       "    </tr>\n",
       "    <tr>\n",
       "      <td>5915</td>\n",
       "      <td>2015</td>\n",
       "      <td>DC</td>\n",
       "      <td>672,228.00</td>\n",
       "    </tr>\n",
       "  </tbody>\n",
       "</table>\n",
       "</div>"
      ],
      "text/plain": [
       "      year state        pop\n",
       "5911  2011    DC 620,427.00\n",
       "5912  2012    DC 635,040.00\n",
       "5913  2013    DC 649,111.00\n",
       "5914  2014    DC 658,893.00\n",
       "5915  2015    DC 672,228.00"
      ]
     },
     "execution_count": 66,
     "metadata": {},
     "output_type": "execute_result"
    }
   ],
   "source": [
    "gp.tail()\n",
    "sp.tail()"
   ]
  },
  {
   "cell_type": "code",
   "execution_count": 26,
   "metadata": {},
   "outputs": [
    {
     "data": {
      "text/plain": [
       "array(['AL', 'AK', 'AZ', 'AR', 'CA', 'CO', 'CT', 'DE', 'FL', 'GA', 'HI',\n",
       "       'ID', 'IL', 'IN', 'IA', 'KS', 'KY', 'LA', 'ME', 'MD', 'MA', 'MI',\n",
       "       'MN', 'MS', 'MO', 'MT', 'NE', 'NV', 'NH', 'NJ', 'NM', 'NY', 'NC',\n",
       "       'ND', 'OH', 'OK', 'OR', 'PA', 'RI', 'SC', 'SD', 'TN', 'TX', 'UT',\n",
       "       'VT', 'VA', 'WA', 'WV', 'WI', 'WY', 'DC'], dtype=object)"
      ]
     },
     "execution_count": 26,
     "metadata": {},
     "output_type": "execute_result"
    }
   ],
   "source": [
    "sp.state.unique()"
   ]
  },
  {
   "cell_type": "code",
   "execution_count": 84,
   "metadata": {},
   "outputs": [
    {
     "data": {
      "text/html": [
       "<div>\n",
       "<style scoped>\n",
       "    .dataframe tbody tr th:only-of-type {\n",
       "        vertical-align: middle;\n",
       "    }\n",
       "\n",
       "    .dataframe tbody tr th {\n",
       "        vertical-align: top;\n",
       "    }\n",
       "\n",
       "    .dataframe thead th {\n",
       "        text-align: right;\n",
       "    }\n",
       "</style>\n",
       "<table border=\"1\" class=\"dataframe\">\n",
       "  <thead>\n",
       "    <tr style=\"text-align: right;\">\n",
       "      <th></th>\n",
       "      <th>year</th>\n",
       "      <th>gas_current</th>\n",
       "      <th>gas_constant</th>\n",
       "    </tr>\n",
       "  </thead>\n",
       "  <tbody>\n",
       "    <tr>\n",
       "      <td>0</td>\n",
       "      <td>1929</td>\n",
       "      <td>0.21</td>\n",
       "      <td>2.38</td>\n",
       "    </tr>\n",
       "    <tr>\n",
       "      <td>1</td>\n",
       "      <td>1930</td>\n",
       "      <td>0.20</td>\n",
       "      <td>2.30</td>\n",
       "    </tr>\n",
       "    <tr>\n",
       "      <td>2</td>\n",
       "      <td>1931</td>\n",
       "      <td>0.17</td>\n",
       "      <td>2.18</td>\n",
       "    </tr>\n",
       "    <tr>\n",
       "      <td>3</td>\n",
       "      <td>1932</td>\n",
       "      <td>0.18</td>\n",
       "      <td>2.61</td>\n",
       "    </tr>\n",
       "    <tr>\n",
       "      <td>4</td>\n",
       "      <td>1933</td>\n",
       "      <td>0.18</td>\n",
       "      <td>2.66</td>\n",
       "    </tr>\n",
       "  </tbody>\n",
       "</table>\n",
       "</div>"
      ],
      "text/plain": [
       "   year  gas_current  gas_constant\n",
       "0  1929         0.21          2.38\n",
       "1  1930         0.20          2.30\n",
       "2  1931         0.17          2.18\n",
       "3  1932         0.18          2.61\n",
       "4  1933         0.18          2.66"
      ]
     },
     "execution_count": 84,
     "metadata": {},
     "output_type": "execute_result"
    }
   ],
   "source": [
    "gp.head()"
   ]
  },
  {
   "cell_type": "markdown",
   "metadata": {},
   "source": [
    "## Plot a line graph of gas prices over time"
   ]
  },
  {
   "cell_type": "code",
   "execution_count": 93,
   "metadata": {},
   "outputs": [
    {
     "data": {
      "text/plain": [
       "<matplotlib.axes._subplots.AxesSubplot at 0x11214ae48>"
      ]
     },
     "execution_count": 93,
     "metadata": {},
     "output_type": "execute_result"
    },
    {
     "data": {
      "image/png": "[encoded data removed]",
      "text/plain": [
       "<Figure size 432x288 with 1 Axes>"
      ]
     },
     "metadata": {
      "needs_background": "light"
     },
     "output_type": "display_data"
    },
    {
     "data": {
      "image/png": "[encoded data removed]",
      "text/plain": [
       "<Figure size 432x288 with 1 Axes>"
      ]
     },
     "metadata": {
      "needs_background": "light"
     },
     "output_type": "display_data"
    }
   ],
   "source": [
    "gp.plot.area(x = 'year', y = 'gas_current', color = 'green')\n",
    "gp.plot(x = 'year', y = 'gas_current', c = 'green')"
   ]
  },
  {
   "cell_type": "code",
   "execution_count": 104,
   "metadata": {},
   "outputs": [
    {
     "data": {
      "text/plain": [
       "Text(0.5, 1.0, 'Gas Prices over Time')"
      ]
     },
     "execution_count": 104,
     "metadata": {},
     "output_type": "execute_result"
    },
    {
     "data": {
      "image/png": "[encoded data removed]",
      "text/plain": [
       "<Figure size 432x288 with 1 Axes>"
      ]
     },
     "metadata": {},
     "output_type": "display_data"
    }
   ],
   "source": [
    "sns.set_style(\"darkgrid\")\n",
    "hist, ax = plt.subplots()\n",
    "sns.lineplot(x = 'year', y = 'gas_current', data=gp, color='green')\n",
    "plt.ylabel('Gas Price ($)')\n",
    "plt.title('Gas Prices over Time')"
   ]
  },
  {
   "cell_type": "code",
   "execution_count": 65,
   "metadata": {},
   "outputs": [
    {
     "name": "stdout",
     "output_type": "stream",
     "text": [
      "<class 'pandas.core.frame.DataFrame'>\n",
      "RangeIndex: 21560 entries, 0 to 21559\n",
      "Data columns (total 12 columns):\n",
      "year                 21560 non-null object\n",
      "gnis_id              21560 non-null object\n",
      "geometry             21560 non-null object\n",
      "metadata             18848 non-null object\n",
      "number_of_records    21560 non-null int64\n",
      "parkname             19342 non-null object\n",
      "region               21560 non-null object\n",
      "state                21560 non-null object\n",
      "unit_code            21560 non-null object\n",
      "unit_name            21560 non-null object\n",
      "unit_type            21560 non-null object\n",
      "visitors             21556 non-null float64\n",
      "dtypes: float64(1), int64(1), object(10)\n",
      "memory usage: 2.0+ MB\n"
     ]
    },
    {
     "data": {
      "text/plain": [
       "2218"
      ]
     },
     "execution_count": 65,
     "metadata": {},
     "output_type": "execute_result"
    }
   ],
   "source": [
    "nps.info()\n",
    "nps.parkname.isnull().sum()"
   ]
  },
  {
   "cell_type": "code",
   "execution_count": 29,
   "metadata": {},
   "outputs": [
    {
     "data": {
      "text/plain": [
       "(21560, 12)"
      ]
     },
     "execution_count": 29,
     "metadata": {},
     "output_type": "execute_result"
    }
   ],
   "source": [
    "nps.shape"
   ]
  },
  {
   "cell_type": "code",
   "execution_count": 27,
   "metadata": {},
   "outputs": [
    {
     "data": {
      "text/html": [
       "<div>\n",
       "<style scoped>\n",
       "    .dataframe tbody tr th:only-of-type {\n",
       "        vertical-align: middle;\n",
       "    }\n",
       "\n",
       "    .dataframe tbody tr th {\n",
       "        vertical-align: top;\n",
       "    }\n",
       "\n",
       "    .dataframe thead th {\n",
       "        text-align: right;\n",
       "    }\n",
       "</style>\n",
       "<table border=\"1\" class=\"dataframe\">\n",
       "  <thead>\n",
       "    <tr style=\"text-align: right;\">\n",
       "      <th></th>\n",
       "      <th>year</th>\n",
       "      <th>gnis_id</th>\n",
       "      <th>geometry</th>\n",
       "      <th>metadata</th>\n",
       "      <th>number_of_records</th>\n",
       "      <th>parkname</th>\n",
       "      <th>region</th>\n",
       "      <th>state</th>\n",
       "      <th>unit_code</th>\n",
       "      <th>unit_name</th>\n",
       "      <th>unit_type</th>\n",
       "      <th>visitors</th>\n",
       "    </tr>\n",
       "  </thead>\n",
       "  <tbody>\n",
       "    <tr>\n",
       "      <td>0</td>\n",
       "      <td>1904</td>\n",
       "      <td>1163670</td>\n",
       "      <td>POLYGON</td>\n",
       "      <td>NaN</td>\n",
       "      <td>1</td>\n",
       "      <td>Crater Lake</td>\n",
       "      <td>PW</td>\n",
       "      <td>OR</td>\n",
       "      <td>CRLA</td>\n",
       "      <td>Crater Lake National Park</td>\n",
       "      <td>National Park</td>\n",
       "      <td>1500.0</td>\n",
       "    </tr>\n",
       "    <tr>\n",
       "      <td>1</td>\n",
       "      <td>1941</td>\n",
       "      <td>1531834</td>\n",
       "      <td>MULTIPOLYGON</td>\n",
       "      <td>NaN</td>\n",
       "      <td>1</td>\n",
       "      <td>Lake Roosevelt</td>\n",
       "      <td>PW</td>\n",
       "      <td>WA</td>\n",
       "      <td>LARO</td>\n",
       "      <td>Lake Roosevelt National Recreation Area</td>\n",
       "      <td>National Recreation Area</td>\n",
       "      <td>0.0</td>\n",
       "    </tr>\n",
       "    <tr>\n",
       "      <td>2</td>\n",
       "      <td>1961</td>\n",
       "      <td>2055170</td>\n",
       "      <td>MULTIPOLYGON</td>\n",
       "      <td>NaN</td>\n",
       "      <td>1</td>\n",
       "      <td>Lewis and Clark</td>\n",
       "      <td>PW</td>\n",
       "      <td>WA</td>\n",
       "      <td>LEWI</td>\n",
       "      <td>Lewis and Clark National Historical Park</td>\n",
       "      <td>National Historical Park</td>\n",
       "      <td>69000.0</td>\n",
       "    </tr>\n",
       "    <tr>\n",
       "      <td>3</td>\n",
       "      <td>1935</td>\n",
       "      <td>1530459</td>\n",
       "      <td>MULTIPOLYGON</td>\n",
       "      <td>NaN</td>\n",
       "      <td>1</td>\n",
       "      <td>Olympic</td>\n",
       "      <td>PW</td>\n",
       "      <td>WA</td>\n",
       "      <td>OLYM</td>\n",
       "      <td>Olympic National Park</td>\n",
       "      <td>National Park</td>\n",
       "      <td>2200.0</td>\n",
       "    </tr>\n",
       "    <tr>\n",
       "      <td>4</td>\n",
       "      <td>1982</td>\n",
       "      <td>277263</td>\n",
       "      <td>POLYGON</td>\n",
       "      <td>NaN</td>\n",
       "      <td>1</td>\n",
       "      <td>Santa Monica Mountains</td>\n",
       "      <td>PW</td>\n",
       "      <td>CA</td>\n",
       "      <td>SAMO</td>\n",
       "      <td>Santa Monica Mountains National Recreation Area</td>\n",
       "      <td>National Recreation Area</td>\n",
       "      <td>468144.0</td>\n",
       "    </tr>\n",
       "  </tbody>\n",
       "</table>\n",
       "</div>"
      ],
      "text/plain": [
       "   year  gnis_id      geometry metadata  number_of_records  \\\n",
       "0  1904  1163670       POLYGON      NaN                  1   \n",
       "1  1941  1531834  MULTIPOLYGON      NaN                  1   \n",
       "2  1961  2055170  MULTIPOLYGON      NaN                  1   \n",
       "3  1935  1530459  MULTIPOLYGON      NaN                  1   \n",
       "4  1982   277263       POLYGON      NaN                  1   \n",
       "\n",
       "                 parkname region state unit_code  \\\n",
       "0             Crater Lake     PW    OR      CRLA   \n",
       "1          Lake Roosevelt     PW    WA      LARO   \n",
       "2         Lewis and Clark     PW    WA      LEWI   \n",
       "3                 Olympic     PW    WA      OLYM   \n",
       "4  Santa Monica Mountains     PW    CA      SAMO   \n",
       "\n",
       "                                         unit_name                 unit_type  \\\n",
       "0                        Crater Lake National Park             National Park   \n",
       "1          Lake Roosevelt National Recreation Area  National Recreation Area   \n",
       "2         Lewis and Clark National Historical Park  National Historical Park   \n",
       "3                            Olympic National Park             National Park   \n",
       "4  Santa Monica Mountains National Recreation Area  National Recreation Area   \n",
       "\n",
       "   visitors  \n",
       "0    1500.0  \n",
       "1       0.0  \n",
       "2   69000.0  \n",
       "3    2200.0  \n",
       "4  468144.0  "
      ]
     },
     "execution_count": 27,
     "metadata": {},
     "output_type": "execute_result"
    }
   ],
   "source": [
    "nps.head()"
   ]
  },
  {
   "cell_type": "markdown",
   "metadata": {},
   "source": [
    "## Questions to consider:\n",
    "\n",
    "- which year(s) had the most/least number of visitors?\n",
    "- which park or unit_type had the most/least number of visitors?\n",
    "- which state has the most/least number of parks/unit_types?\n",
    "- which state has the most/least number of visitors?\n",
    "- where are the unit_types/parks located geographically?\n",
    "- graph the number of visitors across time for a unit_type (National Parks)\n",
    "- Average annual number of visitors by park location?\n"
   ]
  },
  {
   "cell_type": "code",
   "execution_count": 122,
   "metadata": {},
   "outputs": [
    {
     "data": {
      "text/plain": [
       "year\n",
       "1904          120,690.00\n",
       "1905          140,954.00\n",
       "1906           30,569.00\n",
       "1907           32,935.00\n",
       "1908           42,768.00\n",
       "              ...       \n",
       "2013       64,486,815.00\n",
       "2014       69,847,696.00\n",
       "2015       76,258,329.00\n",
       "2016       83,920,334.00\n",
       "Total   3,594,027,510.00\n",
       "Name: visitors, Length: 114, dtype: float64"
      ]
     },
     "execution_count": 122,
     "metadata": {},
     "output_type": "execute_result"
    }
   ],
   "source": [
    "nps_park = nps[nps['unit_type']=='National Park']\n",
    "nps_park.groupby('year')['visitors'].sum()\n",
    "#hist, ax = plt.subplots()\n",
    "#sns.lineplot(x = 'year', y = 'visitors', data=nps_park, color='green')"
   ]
  },
  {
   "cell_type": "code",
   "execution_count": 60,
   "metadata": {},
   "outputs": [
    {
     "data": {
      "text/plain": [
       "state\n",
       "AZ    1623\n",
       "CA    1543\n",
       "AK    1040\n",
       "VA    1035\n",
       "NY     995\n",
       "Name: unit_type, dtype: int64"
      ]
     },
     "execution_count": 60,
     "metadata": {},
     "output_type": "execute_result"
    }
   ],
   "source": [
    "nps.groupby('state')['unit_type'].count().sort_values(ascending=False).nlargest(5)"
   ]
  },
  {
   "cell_type": "code",
   "execution_count": 83,
   "metadata": {},
   "outputs": [
    {
     "data": {
      "text/plain": [
       "328"
      ]
     },
     "execution_count": 83,
     "metadata": {},
     "output_type": "execute_result"
    }
   ],
   "source": [
    "nps.metadata.nunique()"
   ]
  },
  {
   "cell_type": "code",
   "execution_count": 28,
   "metadata": {},
   "outputs": [
    {
     "data": {
      "text/plain": [
       "National Monument                        5051\n",
       "National Park                            4743\n",
       "National Historic Site                   3274\n",
       "National Historical Park                 1984\n",
       "National Memorial                        1486\n",
       "National Battlefield                      859\n",
       "National Recreation Area                  806\n",
       "National Military Park                    613\n",
       "National Preserve                         559\n",
       "National Seashore                         494\n",
       "Other Designation                         290\n",
       "National Battlefield Park                 246\n",
       "National Lakeshore                        177\n",
       "Park                                      152\n",
       "Parkway                                   149\n",
       "National Parkway                           98\n",
       "National Scenic Riverway                   93\n",
       "National Historical Park and Preserve      81\n",
       "National River                             79\n",
       "Wild and Scenic River                      64\n",
       "National Battlefield Site                  43\n",
       "National Scenic River                      39\n",
       "Scenic and Recreational River              38\n",
       "National River and Recreation Area         37\n",
       "War in the Pacific                         33\n",
       "National Reserve                           26\n",
       "Ecological and Historic Preserve           26\n",
       "National Recreation River                  14\n",
       "International Historic Site                 5\n",
       "Valles Caldera National Preserve            1\n",
       "Name: unit_type, dtype: int64"
      ]
     },
     "execution_count": 28,
     "metadata": {},
     "output_type": "execute_result"
    }
   ],
   "source": [
    "nps.unit_type.value_counts()"
   ]
  },
  {
   "cell_type": "code",
   "execution_count": 120,
   "metadata": {},
   "outputs": [
    {
     "data": {
      "text/plain": [
       "53"
      ]
     },
     "execution_count": 120,
     "metadata": {},
     "output_type": "execute_result"
    }
   ],
   "source": [
    "nps[nps.unit_type == 'National Park']['parkname'].nunique()"
   ]
  },
  {
   "cell_type": "code",
   "execution_count": 78,
   "metadata": {},
   "outputs": [
    {
     "data": {
      "text/plain": [
       "array(['Crater Lake', 'Olympic', 'Black Canyon of the Gunnison',\n",
       "       'Wolf Trap Farm Park', 'Arches', 'Dry Tortugas', 'Bryce Canyon',\n",
       "       'Carlsbad Caverns', 'Yellowstone', \"Hawai'i Volcanoes\", 'Sequoia',\n",
       "       'Mammoth Cave', 'Grand Teton', 'Mesa Verde', 'Great Basin',\n",
       "       'Channel Islands', 'Canyonlands', 'Biscayne',\n",
       "       'Guadalupe Mountains', 'Kings Canyon', 'Zion', 'Haleakala',\n",
       "       'Capitol Reef', 'Joshua Tree', 'Theodore Roosevelt', 'Pinnacles',\n",
       "       'Virgin Islands', 'Rocky Mountain', 'Petrified Forest',\n",
       "       'Death Valley', 'Grand Canyon', 'Lassen Volcanic', 'Badlands',\n",
       "       'Cuyahoga Valley', 'Mount Rainier', 'Yosemite', 'Congaree',\n",
       "       'Saguaro', 'Wind Cave', 'Hot Springs', 'Denali',\n",
       "       'Gates of the Arctic', 'Glacier Bay', 'Katmai', 'Kenai Fjords',\n",
       "       'Kobuk Valley', 'Lake Clark', 'Wrangell-St. Elias',\n",
       "       'North Cascades', 'Great Sand Dunes',\n",
       "       'National Park of American Samoa', 'Glacier', 'Voyageurs'],\n",
       "      dtype=object)"
      ]
     },
     "execution_count": 78,
     "metadata": {},
     "output_type": "execute_result"
    }
   ],
   "source": [
    "nps[nps.unit_type == 'National Park']['parkname'].dropna().unique()"
   ]
  },
  {
   "cell_type": "code",
   "execution_count": 57,
   "metadata": {},
   "outputs": [
    {
     "data": {
      "text/plain": [
       "year   unit_type                            \n",
       "Total  Parkway                                 657,534,030.00\n",
       "       National Parkway                        194,245,179.50\n",
       "       National Recreation Area                123,971,858.41\n",
       "       Park                                    111,366,491.00\n",
       "       National Seashore                        84,084,268.40\n",
       "       National Park                            58,918,483.77\n",
       "       National Scenic Riverway                 44,262,013.00\n",
       "       National Military Park                   41,992,237.00\n",
       "       National Memorial                        40,468,312.21\n",
       "       National River                           35,193,221.50\n",
       "       National Lakeshore                       34,896,937.25\n",
       "       National Historical Park and Preserve    31,878,925.00\n",
       "       National Historical Park                 31,150,752.43\n",
       "       National Battlefield Park                27,699,547.25\n",
       "       Other Designation                        24,030,555.00\n",
       "       Ecological and Historic Preserve         18,018,607.00\n",
       "       National Monument                        14,903,513.41\n",
       "       National Battlefield                     12,523,972.42\n",
       "       National River and Recreation Area       11,068,695.50\n",
       "       Scenic and Recreational River             9,151,018.00\n",
       "       National Historic Site                    5,898,165.66\n",
       "       War in the Pacific                        4,752,911.00\n",
       "       National Preserve                         4,237,051.40\n",
       "       Wild and Scenic River                     2,842,225.00\n",
       "       National Reserve                          2,079,402.00\n",
       "       National Recreation River                 1,886,564.00\n",
       "       National Scenic River                     1,018,279.50\n",
       "       National Battlefield Site                    88,266.00\n",
       "       International Historic Site                  48,711.00\n",
       "       Valles Caldera National Preserve                   nan\n",
       "Name: visitors, dtype: float64"
      ]
     },
     "execution_count": 57,
     "metadata": {},
     "output_type": "execute_result"
    }
   ],
   "source": [
    "nps.groupby(['year', 'unit_type'])['visitors'].mean().tail(30).sort_values(ascending=False)"
   ]
  }
 ],
 "metadata": {
  "kernelspec": {
   "display_name": "Python 3",
   "language": "python",
   "name": "python3"
  },
  "language_info": {
   "codemirror_mode": {
    "name": "ipython",
    "version": 3
   },
   "file_extension": ".py",
   "mimetype": "text/x-python",
   "name": "python",
   "nbconvert_exporter": "python",
   "pygments_lexer": "ipython3",
   "version": "3.6.9"
  }
 },
 "nbformat": 4,
 "nbformat_minor": 2
}
