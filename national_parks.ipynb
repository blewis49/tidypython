{
 "cells": [
  {
   "cell_type": "markdown",
   "metadata": {},
   "source": [
    "# Tidy Tuesday in Python: \n",
    "## National Park Visits\n",
    "### 18 September 2019"
   ]
  },
  {
   "cell_type": "code",
   "execution_count": 240,
   "metadata": {},
   "outputs": [],
   "source": [
    "import pandas as pd\n",
    "import numpy as np\n",
    "import matplotlib.pyplot as plt\n",
    "import seaborn as sns\n",
    "import re"
   ]
  },
  {
   "cell_type": "markdown",
   "metadata": {},
   "source": [
    "## 1.  Data Import "
   ]
  },
  {
   "cell_type": "code",
   "execution_count": null,
   "metadata": {},
   "outputs": [],
   "source": [
    "gp = pd.read_csv('gas_price.csv')\n",
    "nps = pd.read_csv('national_parks.csv')\n",
    "sp = pd.read_csv('state_pop.csv')"
   ]
  },
  {
   "cell_type": "markdown",
   "metadata": {},
   "source": [
    "## Set options to format number values"
   ]
  },
  {
   "cell_type": "code",
   "execution_count": null,
   "metadata": {},
   "outputs": [],
   "source": [
    "pd.options.display.float_format = '{:,.2f}'.format"
   ]
  },
  {
   "cell_type": "markdown",
   "metadata": {},
   "source": [
    "## 2. Data Exploration"
   ]
  },
  {
   "cell_type": "code",
   "execution_count": 66,
   "metadata": {},
   "outputs": [
    {
     "data": {
      "text/html": [
       "<div>\n",
       "<style scoped>\n",
       "    .dataframe tbody tr th:only-of-type {\n",
       "        vertical-align: middle;\n",
       "    }\n",
       "\n",
       "    .dataframe tbody tr th {\n",
       "        vertical-align: top;\n",
       "    }\n",
       "\n",
       "    .dataframe thead th {\n",
       "        text-align: right;\n",
       "    }\n",
       "</style>\n",
       "<table border=\"1\" class=\"dataframe\">\n",
       "  <thead>\n",
       "    <tr style=\"text-align: right;\">\n",
       "      <th></th>\n",
       "      <th>year</th>\n",
       "      <th>state</th>\n",
       "      <th>pop</th>\n",
       "    </tr>\n",
       "  </thead>\n",
       "  <tbody>\n",
       "    <tr>\n",
       "      <td>5911</td>\n",
       "      <td>2011</td>\n",
       "      <td>DC</td>\n",
       "      <td>620,427.00</td>\n",
       "    </tr>\n",
       "    <tr>\n",
       "      <td>5912</td>\n",
       "      <td>2012</td>\n",
       "      <td>DC</td>\n",
       "      <td>635,040.00</td>\n",
       "    </tr>\n",
       "    <tr>\n",
       "      <td>5913</td>\n",
       "      <td>2013</td>\n",
       "      <td>DC</td>\n",
       "      <td>649,111.00</td>\n",
       "    </tr>\n",
       "    <tr>\n",
       "      <td>5914</td>\n",
       "      <td>2014</td>\n",
       "      <td>DC</td>\n",
       "      <td>658,893.00</td>\n",
       "    </tr>\n",
       "    <tr>\n",
       "      <td>5915</td>\n",
       "      <td>2015</td>\n",
       "      <td>DC</td>\n",
       "      <td>672,228.00</td>\n",
       "    </tr>\n",
       "  </tbody>\n",
       "</table>\n",
       "</div>"
      ],
      "text/plain": [
       "      year state        pop\n",
       "5911  2011    DC 620,427.00\n",
       "5912  2012    DC 635,040.00\n",
       "5913  2013    DC 649,111.00\n",
       "5914  2014    DC 658,893.00\n",
       "5915  2015    DC 672,228.00"
      ]
     },
     "execution_count": 66,
     "metadata": {},
     "output_type": "execute_result"
    }
   ],
   "source": [
    "gp.tail()\n",
    "sp.tail()"
   ]
  },
  {
   "cell_type": "code",
   "execution_count": 26,
   "metadata": {},
   "outputs": [
    {
     "data": {
      "text/plain": [
       "array(['AL', 'AK', 'AZ', 'AR', 'CA', 'CO', 'CT', 'DE', 'FL', 'GA', 'HI',\n",
       "       'ID', 'IL', 'IN', 'IA', 'KS', 'KY', 'LA', 'ME', 'MD', 'MA', 'MI',\n",
       "       'MN', 'MS', 'MO', 'MT', 'NE', 'NV', 'NH', 'NJ', 'NM', 'NY', 'NC',\n",
       "       'ND', 'OH', 'OK', 'OR', 'PA', 'RI', 'SC', 'SD', 'TN', 'TX', 'UT',\n",
       "       'VT', 'VA', 'WA', 'WV', 'WI', 'WY', 'DC'], dtype=object)"
      ]
     },
     "execution_count": 26,
     "metadata": {},
     "output_type": "execute_result"
    }
   ],
   "source": [
    "sp.state.unique()"
   ]
  },
  {
   "cell_type": "code",
   "execution_count": 84,
   "metadata": {},
   "outputs": [
    {
     "data": {
      "text/html": [
       "<div>\n",
       "<style scoped>\n",
       "    .dataframe tbody tr th:only-of-type {\n",
       "        vertical-align: middle;\n",
       "    }\n",
       "\n",
       "    .dataframe tbody tr th {\n",
       "        vertical-align: top;\n",
       "    }\n",
       "\n",
       "    .dataframe thead th {\n",
       "        text-align: right;\n",
       "    }\n",
       "</style>\n",
       "<table border=\"1\" class=\"dataframe\">\n",
       "  <thead>\n",
       "    <tr style=\"text-align: right;\">\n",
       "      <th></th>\n",
       "      <th>year</th>\n",
       "      <th>gas_current</th>\n",
       "      <th>gas_constant</th>\n",
       "    </tr>\n",
       "  </thead>\n",
       "  <tbody>\n",
       "    <tr>\n",
       "      <td>0</td>\n",
       "      <td>1929</td>\n",
       "      <td>0.21</td>\n",
       "      <td>2.38</td>\n",
       "    </tr>\n",
       "    <tr>\n",
       "      <td>1</td>\n",
       "      <td>1930</td>\n",
       "      <td>0.20</td>\n",
       "      <td>2.30</td>\n",
       "    </tr>\n",
       "    <tr>\n",
       "      <td>2</td>\n",
       "      <td>1931</td>\n",
       "      <td>0.17</td>\n",
       "      <td>2.18</td>\n",
       "    </tr>\n",
       "    <tr>\n",
       "      <td>3</td>\n",
       "      <td>1932</td>\n",
       "      <td>0.18</td>\n",
       "      <td>2.61</td>\n",
       "    </tr>\n",
       "    <tr>\n",
       "      <td>4</td>\n",
       "      <td>1933</td>\n",
       "      <td>0.18</td>\n",
       "      <td>2.66</td>\n",
       "    </tr>\n",
       "  </tbody>\n",
       "</table>\n",
       "</div>"
      ],
      "text/plain": [
       "   year  gas_current  gas_constant\n",
       "0  1929         0.21          2.38\n",
       "1  1930         0.20          2.30\n",
       "2  1931         0.17          2.18\n",
       "3  1932         0.18          2.61\n",
       "4  1933         0.18          2.66"
      ]
     },
     "execution_count": 84,
     "metadata": {},
     "output_type": "execute_result"
    }
   ],
   "source": [
    "gp.head()"
   ]
  },
  {
   "cell_type": "markdown",
   "metadata": {},
   "source": [
    "## Plot a line graph of gas prices over time"
   ]
  },
  {
   "cell_type": "code",
   "execution_count": 93,
   "metadata": {},
   "outputs": [
    {
     "data": {
      "text/plain": [
       "<matplotlib.axes._subplots.AxesSubplot at 0x11214ae48>"
      ]
     },
     "execution_count": 93,
     "metadata": {},
     "output_type": "execute_result"
    },
    {
     "data": {
      "image/png": "[encoded data removed]",
      "text/plain": [
       "<Figure size 432x288 with 1 Axes>"
      ]
     },
     "metadata": {
      "needs_background": "light"
     },
     "output_type": "display_data"
    },
    {
     "data": {
      "image/png": "[encoded data removed]",
      "text/plain": [
       "<Figure size 432x288 with 1 Axes>"
      ]
     },
     "metadata": {
      "needs_background": "light"
     },
     "output_type": "display_data"
    }
   ],
   "source": [
    "gp.plot.area(x = 'year', y = 'gas_current', color = 'green')\n",
    "gp.plot(x = 'year', y = 'gas_current', c = 'green')"
   ]
  },
  {
   "cell_type": "code",
   "execution_count": 104,
   "metadata": {},
   "outputs": [
    {
     "data": {
      "text/plain": [
       "Text(0.5, 1.0, 'Gas Prices over Time')"
      ]
     },
     "execution_count": 104,
     "metadata": {},
     "output_type": "execute_result"
    },
    {
     "data": {
      "image/png": "[encoded data removed]",
      "text/plain": [
       "<Figure size 432x288 with 1 Axes>"
      ]
     },
     "metadata": {},
     "output_type": "display_data"
    }
   ],
   "source": [
    "sns.set_style(\"darkgrid\")\n",
    "hist, ax = plt.subplots()\n",
    "sns.lineplot(x = 'year', y = 'gas_current', data=gp, color='green')\n",
    "plt.ylabel('Gas Price ($)')\n",
    "plt.title('Gas Prices over Time')"
   ]
  },
  {
   "cell_type": "code",
   "execution_count": 65,
   "metadata": {},
   "outputs": [
    {
     "name": "stdout",
     "output_type": "stream",
     "text": [
      "<class 'pandas.core.frame.DataFrame'>\n",
      "RangeIndex: 21560 entries, 0 to 21559\n",
      "Data columns (total 12 columns):\n",
      "year                 21560 non-null object\n",
      "gnis_id              21560 non-null object\n",
      "geometry             21560 non-null object\n",
      "metadata             18848 non-null object\n",
      "number_of_records    21560 non-null int64\n",
      "parkname             19342 non-null object\n",
      "region               21560 non-null object\n",
      "state                21560 non-null object\n",
      "unit_code            21560 non-null object\n",
      "unit_name            21560 non-null object\n",
      "unit_type            21560 non-null object\n",
      "visitors             21556 non-null float64\n",
      "dtypes: float64(1), int64(1), object(10)\n",
      "memory usage: 2.0+ MB\n"
     ]
    },
    {
     "data": {
      "text/plain": [
       "2218"
      ]
     },
     "execution_count": 65,
     "metadata": {},
     "output_type": "execute_result"
    }
   ],
   "source": [
    "nps.info()\n",
    "nps.parkname.isnull().sum()"
   ]
  },
  {
   "cell_type": "code",
   "execution_count": 29,
   "metadata": {},
   "outputs": [
    {
     "data": {
      "text/plain": [
       "(21560, 12)"
      ]
     },
     "execution_count": 29,
     "metadata": {},
     "output_type": "execute_result"
    }
   ],
   "source": [
    "nps.shape"
   ]
  },
  {
   "cell_type": "code",
   "execution_count": 223,
   "metadata": {},
   "outputs": [
    {
     "data": {
      "text/html": [
       "<div>\n",
       "<style scoped>\n",
       "    .dataframe tbody tr th:only-of-type {\n",
       "        vertical-align: middle;\n",
       "    }\n",
       "\n",
       "    .dataframe tbody tr th {\n",
       "        vertical-align: top;\n",
       "    }\n",
       "\n",
       "    .dataframe thead th {\n",
       "        text-align: right;\n",
       "    }\n",
       "</style>\n",
       "<table border=\"1\" class=\"dataframe\">\n",
       "  <thead>\n",
       "    <tr style=\"text-align: right;\">\n",
       "      <th></th>\n",
       "      <th>year</th>\n",
       "      <th>gnis_id</th>\n",
       "      <th>geometry</th>\n",
       "      <th>metadata</th>\n",
       "      <th>number_of_records</th>\n",
       "      <th>parkname</th>\n",
       "      <th>region</th>\n",
       "      <th>state</th>\n",
       "      <th>unit_code</th>\n",
       "      <th>unit_name</th>\n",
       "      <th>unit_type</th>\n",
       "      <th>visitors</th>\n",
       "    </tr>\n",
       "  </thead>\n",
       "  <tbody>\n",
       "    <tr>\n",
       "      <td>21555</td>\n",
       "      <td>1905</td>\n",
       "      <td>1163670</td>\n",
       "      <td>POLYGON</td>\n",
       "      <td>NaN</td>\n",
       "      <td>1</td>\n",
       "      <td>Crater Lake</td>\n",
       "      <td>PW</td>\n",
       "      <td>OR</td>\n",
       "      <td>CRLA</td>\n",
       "      <td>Crater Lake National Park</td>\n",
       "      <td>National Park</td>\n",
       "      <td>1,400.00</td>\n",
       "    </tr>\n",
       "    <tr>\n",
       "      <td>21556</td>\n",
       "      <td>1905</td>\n",
       "      <td>1609331</td>\n",
       "      <td>POLYGON</td>\n",
       "      <td>http://nrdata.nps.gov/programs/Lands/YELL_meta...</td>\n",
       "      <td>1</td>\n",
       "      <td>Yellowstone</td>\n",
       "      <td>IM</td>\n",
       "      <td>WY</td>\n",
       "      <td>YELL</td>\n",
       "      <td>Yellowstone National Park</td>\n",
       "      <td>National Park</td>\n",
       "      <td>26,188.00</td>\n",
       "    </tr>\n",
       "    <tr>\n",
       "      <td>21557</td>\n",
       "      <td>1905</td>\n",
       "      <td>255948</td>\n",
       "      <td>MULTIPOLYGON</td>\n",
       "      <td>http://nrdata.nps.gov/programs/Lands/KICA_meta...</td>\n",
       "      <td>1</td>\n",
       "      <td>Kings Canyon</td>\n",
       "      <td>PW</td>\n",
       "      <td>CA</td>\n",
       "      <td>KICA</td>\n",
       "      <td>Kings Canyon National Park</td>\n",
       "      <td>National Park</td>\n",
       "      <td>1,000.00</td>\n",
       "    </tr>\n",
       "    <tr>\n",
       "      <td>21558</td>\n",
       "      <td>1905</td>\n",
       "      <td>1528416</td>\n",
       "      <td>MULTIPOLYGON</td>\n",
       "      <td>http://nrdata.nps.gov/programs/Lands/MORA_meta...</td>\n",
       "      <td>1</td>\n",
       "      <td>Mount Rainier</td>\n",
       "      <td>PW</td>\n",
       "      <td>WA</td>\n",
       "      <td>MORA</td>\n",
       "      <td>Mount Rainier National Park</td>\n",
       "      <td>National Park</td>\n",
       "      <td>928.00</td>\n",
       "    </tr>\n",
       "    <tr>\n",
       "      <td>21559</td>\n",
       "      <td>1905</td>\n",
       "      <td>1263056</td>\n",
       "      <td>MULTIPOLYGON</td>\n",
       "      <td>http://nrdata.nps.gov/programs/Lands/WICA_meta...</td>\n",
       "      <td>1</td>\n",
       "      <td>Wind Cave</td>\n",
       "      <td>MW</td>\n",
       "      <td>SD</td>\n",
       "      <td>WICA</td>\n",
       "      <td>Wind Cave National Park</td>\n",
       "      <td>National Park</td>\n",
       "      <td>2,438.00</td>\n",
       "    </tr>\n",
       "  </tbody>\n",
       "</table>\n",
       "</div>"
      ],
      "text/plain": [
       "       year  gnis_id      geometry  \\\n",
       "21555  1905  1163670       POLYGON   \n",
       "21556  1905  1609331       POLYGON   \n",
       "21557  1905   255948  MULTIPOLYGON   \n",
       "21558  1905  1528416  MULTIPOLYGON   \n",
       "21559  1905  1263056  MULTIPOLYGON   \n",
       "\n",
       "                                                metadata  number_of_records  \\\n",
       "21555                                                NaN                  1   \n",
       "21556  http://nrdata.nps.gov/programs/Lands/YELL_meta...                  1   \n",
       "21557  http://nrdata.nps.gov/programs/Lands/KICA_meta...                  1   \n",
       "21558  http://nrdata.nps.gov/programs/Lands/MORA_meta...                  1   \n",
       "21559  http://nrdata.nps.gov/programs/Lands/WICA_meta...                  1   \n",
       "\n",
       "            parkname region state unit_code                    unit_name  \\\n",
       "21555    Crater Lake     PW    OR      CRLA    Crater Lake National Park   \n",
       "21556    Yellowstone     IM    WY      YELL    Yellowstone National Park   \n",
       "21557   Kings Canyon     PW    CA      KICA   Kings Canyon National Park   \n",
       "21558  Mount Rainier     PW    WA      MORA  Mount Rainier National Park   \n",
       "21559      Wind Cave     MW    SD      WICA      Wind Cave National Park   \n",
       "\n",
       "           unit_type  visitors  \n",
       "21555  National Park  1,400.00  \n",
       "21556  National Park 26,188.00  \n",
       "21557  National Park  1,000.00  \n",
       "21558  National Park    928.00  \n",
       "21559  National Park  2,438.00  "
      ]
     },
     "execution_count": 223,
     "metadata": {},
     "output_type": "execute_result"
    }
   ],
   "source": [
    "nps.tail()"
   ]
  },
  {
   "cell_type": "markdown",
   "metadata": {},
   "source": [
    "## Questions to consider:\n",
    "\n",
    "- which year(s) had the most/least number of visitors by unit_type?\n",
    "- which park or unit_type had the most/least number of visitors?\n",
    "- which state has the most/least number of parks/unit_types?\n",
    "- which state has the most/least number of visitors?\n",
    "- where are the unit_types/parks located geographically?\n",
    "- graph the number of visitors across time for a unit_type (National Parks)\n",
    "- Average annual number of visitors by park location?\n"
   ]
  },
  {
   "cell_type": "markdown",
   "metadata": {},
   "source": [
    "## How many people visit National Parks each year?"
   ]
  },
  {
   "cell_type": "code",
   "execution_count": 181,
   "metadata": {},
   "outputs": [
    {
     "data": {
      "text/plain": [
       "year\n",
       "1904          120,690.00\n",
       "1905          140,954.00\n",
       "1906           30,569.00\n",
       "1907           32,935.00\n",
       "1908           42,768.00\n",
       "              ...       \n",
       "2013       64,486,815.00\n",
       "2014       69,847,696.00\n",
       "2015       76,258,329.00\n",
       "2016       83,920,334.00\n",
       "Total   3,594,027,510.00\n",
       "Name: visitors, Length: 114, dtype: float64"
      ]
     },
     "execution_count": 181,
     "metadata": {},
     "output_type": "execute_result"
    }
   ],
   "source": [
    "nps_park = nps[nps['unit_type']=='National Park'] #filter on just National Parks\n",
    "nps_park.groupby('year')['visitors'].sum()  #Number of visitors to a National Park for each year"
   ]
  },
  {
   "cell_type": "code",
   "execution_count": 304,
   "metadata": {},
   "outputs": [
    {
     "data": {
      "text/plain": [
       "Text(0.5, 1.0, 'Annual Visits to National Parks since 1904')"
      ]
     },
     "execution_count": 304,
     "metadata": {},
     "output_type": "execute_result"
    },
    {
     "data": {
      "image/png": "[encoded data removed]",
      "text/plain": [
       "<Figure size 1080x576 with 1 Axes>"
      ]
     },
     "metadata": {},
     "output_type": "display_data"
    }
   ],
   "source": [
    "ax1 = nps_park.groupby('year')['visitors'].sum()[0:113].plot(color='g', figsize=(15,8))\n",
    "ax1.set_ylim((0,80000000))\n",
    "vals = ax1.get_yticks()\n",
    "ax1.set_yticklabels(['{:.0f}m'.format(x/1000000) for x in vals], fontsize=12)\n",
    "ax1.set_xlabel('') #remove the year label as it is implied by the xlim values\n",
    "ax1.set_title('Annual Visits to National Parks since 1904', fontsize = 20)"
   ]
  },
  {
   "cell_type": "code",
   "execution_count": 249,
   "metadata": {},
   "outputs": [
    {
     "data": {
      "text/plain": [
       "21"
      ]
     },
     "execution_count": 249,
     "metadata": {},
     "output_type": "execute_result"
    }
   ],
   "source": [
    "# search for the word Yellowstone in the parkname column\n",
    "nps_20.parkname.str.contains('Golden Gate').sum()"
   ]
  },
  {
   "cell_type": "markdown",
   "metadata": {},
   "source": [
    "## What are the most popular National Parks over the past 20 years?"
   ]
  },
  {
   "cell_type": "code",
   "execution_count": 290,
   "metadata": {},
   "outputs": [
    {
     "data": {
      "text/plain": [
       "parkname\n",
       "Grand Canyon        4,520,635.20\n",
       "Yosemite            3,664,505.50\n",
       "Olympic             3,218,993.30\n",
       "Yellowstone         3,217,877.45\n",
       "Rocky Mountain      3,141,436.00\n",
       "Zion                2,764,352.20\n",
       "Cuyahoga Valley     2,751,622.90\n",
       "Grand Teton         2,646,854.20\n",
       "Glacier             2,005,343.45\n",
       "Hawai'i Volcanoes   1,473,409.30\n",
       "Name: visitors, dtype: float64"
      ]
     },
     "execution_count": 290,
     "metadata": {},
     "output_type": "execute_result"
    }
   ],
   "source": [
    "nps_20 = nps[(nps['year'] > '1996') & (nps['unit_type'] == 'National Park')]   #1997-2016\n",
    "nps_20 = nps_20[nps_20.year != 'Total']\n",
    "nps_20.groupby('parkname')['visitors'].mean().sort_values(ascending=False).nlargest(10)"
   ]
  },
  {
   "cell_type": "code",
   "execution_count": 305,
   "metadata": {},
   "outputs": [
    {
     "data": {
      "image/png": "[encoded data removed]",
      "text/plain": [
       "<Figure size 720x1080 with 1 Axes>"
      ]
     },
     "metadata": {},
     "output_type": "display_data"
    }
   ],
   "source": [
    "ax2 = nps_20.groupby('parkname')['visitors'].mean().sort_values(ascending=False).plot.barh(figsize=(10,15), color='brown')\n",
    "ax2.set_title('Most Popular National Parks over the past 20 years', fontsize=16)\n",
    "vals = ax2.get_xticks()\n",
    "ax2.set_xticklabels(['{:.0f}m'.format(x/1000000) for x in vals])\n",
    "ax2.set_ylabel('')\n",
    "ax2.invert_yaxis()"
   ]
  },
  {
   "cell_type": "markdown",
   "metadata": {},
   "source": [
    "## Which states have the most parks?"
   ]
  },
  {
   "cell_type": "code",
   "execution_count": 307,
   "metadata": {},
   "outputs": [
    {
     "data": {
      "text/plain": [
       "state\n",
       "AZ    1623\n",
       "CA    1543\n",
       "AK    1040\n",
       "VA    1035\n",
       "NY     995\n",
       "Name: unit_type, dtype: int64"
      ]
     },
     "execution_count": 307,
     "metadata": {},
     "output_type": "execute_result"
    }
   ],
   "source": [
    "nps.groupby('state')['unit_type'].count().sort_values(ascending=False).nlargest(5)"
   ]
  },
  {
   "cell_type": "markdown",
   "metadata": {},
   "source": [
    "## Which State had the most visitors on average?"
   ]
  },
  {
   "cell_type": "code",
   "execution_count": 156,
   "metadata": {},
   "outputs": [
    {
     "data": {
      "text/plain": [
       "state\n",
       "NV   5,036,013.95\n",
       "NC   4,982,381.93\n",
       "MS   3,615,193.40\n",
       "DC   3,322,501.77\n",
       "ME   3,145,401.98\n",
       "Name: visitors, dtype: float64"
      ]
     },
     "execution_count": 156,
     "metadata": {},
     "output_type": "execute_result"
    }
   ],
   "source": [
    "nps.groupby('state')['visitors'].mean().sort_values(ascending=False).nlargest(5)"
   ]
  },
  {
   "cell_type": "code",
   "execution_count": 169,
   "metadata": {},
   "outputs": [
    {
     "data": {
      "text/plain": [
       "year   parkname   \n",
       "1934   Great Basin         1,968.00\n",
       "1935   Great Basin         2,977.00\n",
       "1936   Great Basin         2,348.00\n",
       "1937   Great Basin         2,856.00\n",
       "       Lake Mead         389,294.00\n",
       "                          ...      \n",
       "2015   Lake Mead       7,298,465.00\n",
       "2016   Great Basin       144,846.00\n",
       "       Lake Mead       7,175,891.00\n",
       "Total  Great Basin     3,770,774.00\n",
       "       Lake Mead     411,700,377.00\n",
       "Name: visitors, Length: 165, dtype: float64"
      ]
     },
     "execution_count": 169,
     "metadata": {},
     "output_type": "execute_result"
    }
   ],
   "source": [
    "nps[nps.state=='NV'].groupby(['year', 'parkname'])['visitors'].sum()"
   ]
  },
  {
   "cell_type": "code",
   "execution_count": 83,
   "metadata": {},
   "outputs": [
    {
     "data": {
      "text/plain": [
       "328"
      ]
     },
     "execution_count": 83,
     "metadata": {},
     "output_type": "execute_result"
    }
   ],
   "source": [
    "nps.metadata.nunique()"
   ]
  },
  {
   "cell_type": "code",
   "execution_count": 147,
   "metadata": {},
   "outputs": [
    {
     "data": {
      "text/plain": [
       "unit_type\n",
       "National Park                           7,188,055,020.00\n",
       "National Recreation Area                4,215,043,186.00\n",
       "Parkway                                 2,630,136,120.00\n",
       "National Historical Park                2,616,663,204.00\n",
       "National Memorial                       2,266,225,484.00\n",
       "National Monument                       2,175,912,958.00\n",
       "National Seashore                       1,681,685,368.00\n",
       "National Historic Site                    908,317,512.00\n",
       "National Parkway                          776,980,718.00\n",
       "National Military Park                    671,875,792.00\n",
       "Park                                      668,198,946.00\n",
       "National Battlefield                      300,575,338.00\n",
       "Other Designation                         288,366,660.00\n",
       "National Lakeshore                        279,175,498.00\n",
       "National Battlefield Park                 221,596,378.00\n",
       "National Scenic Riverway                  177,048,052.00\n",
       "National River                            140,772,886.00\n",
       "National Preserve                         127,111,542.00\n",
       "National Historical Park and Preserve      63,757,850.00\n",
       "National River and Recreation Area         44,274,782.00\n",
       "Ecological and Historic Preserve           36,037,214.00\n",
       "Scenic and Recreational River              18,302,036.00\n",
       "Wild and Scenic River                      11,368,900.00\n",
       "War in the Pacific                          9,505,822.00\n",
       "National Reserve                            4,158,804.00\n",
       "National Scenic River                       4,073,118.00\n",
       "National Recreation River                   3,773,128.00\n",
       "National Battlefield Site                     176,532.00\n",
       "International Historic Site                    97,422.00\n",
       "Valles Caldera National Preserve                    0.00\n",
       "Name: visitors, dtype: float64"
      ]
     },
     "execution_count": 147,
     "metadata": {},
     "output_type": "execute_result"
    }
   ],
   "source": [
    "nps.groupby('unit_type')['visitors'].sum().sort_values(ascending=False)"
   ]
  },
  {
   "cell_type": "code",
   "execution_count": 153,
   "metadata": {},
   "outputs": [
    {
     "data": {
      "text/plain": [
       "year   unit_type                       \n",
       "Total  Parkway                            657,534,030.00\n",
       "       National Parkway                   194,245,179.50\n",
       "       National Recreation Area           123,971,858.41\n",
       "       Park                               111,366,491.00\n",
       "       National Seashore                   84,084,268.40\n",
       "                                               ...      \n",
       "1942   Park                                         0.00\n",
       "1943   National Battlefield Site                    0.00\n",
       "1945   National Battlefield Site                    0.00\n",
       "1946   Park                                         0.00\n",
       "Total  Valles Caldera National Preserve              nan\n",
       "Name: visitors, Length: 1730, dtype: float64"
      ]
     },
     "execution_count": 153,
     "metadata": {},
     "output_type": "execute_result"
    }
   ],
   "source": [
    "nps.groupby(['year','unit_type'])['visitors'].mean().sort_values(ascending=False)\n",
    "# why is there a total value and what does it mean?"
   ]
  },
  {
   "cell_type": "code",
   "execution_count": 28,
   "metadata": {},
   "outputs": [
    {
     "data": {
      "text/plain": [
       "National Monument                        5051\n",
       "National Park                            4743\n",
       "National Historic Site                   3274\n",
       "National Historical Park                 1984\n",
       "National Memorial                        1486\n",
       "National Battlefield                      859\n",
       "National Recreation Area                  806\n",
       "National Military Park                    613\n",
       "National Preserve                         559\n",
       "National Seashore                         494\n",
       "Other Designation                         290\n",
       "National Battlefield Park                 246\n",
       "National Lakeshore                        177\n",
       "Park                                      152\n",
       "Parkway                                   149\n",
       "National Parkway                           98\n",
       "National Scenic Riverway                   93\n",
       "National Historical Park and Preserve      81\n",
       "National River                             79\n",
       "Wild and Scenic River                      64\n",
       "National Battlefield Site                  43\n",
       "National Scenic River                      39\n",
       "Scenic and Recreational River              38\n",
       "National River and Recreation Area         37\n",
       "War in the Pacific                         33\n",
       "National Reserve                           26\n",
       "Ecological and Historic Preserve           26\n",
       "National Recreation River                  14\n",
       "International Historic Site                 5\n",
       "Valles Caldera National Preserve            1\n",
       "Name: unit_type, dtype: int64"
      ]
     },
     "execution_count": 28,
     "metadata": {},
     "output_type": "execute_result"
    }
   ],
   "source": [
    "nps.unit_type.value_counts()"
   ]
  },
  {
   "cell_type": "code",
   "execution_count": 120,
   "metadata": {},
   "outputs": [
    {
     "data": {
      "text/plain": [
       "53"
      ]
     },
     "execution_count": 120,
     "metadata": {},
     "output_type": "execute_result"
    }
   ],
   "source": [
    "nps[nps.unit_type == 'National Park']['parkname'].nunique()"
   ]
  },
  {
   "cell_type": "code",
   "execution_count": 78,
   "metadata": {},
   "outputs": [
    {
     "data": {
      "text/plain": [
       "array(['Crater Lake', 'Olympic', 'Black Canyon of the Gunnison',\n",
       "       'Wolf Trap Farm Park', 'Arches', 'Dry Tortugas', 'Bryce Canyon',\n",
       "       'Carlsbad Caverns', 'Yellowstone', \"Hawai'i Volcanoes\", 'Sequoia',\n",
       "       'Mammoth Cave', 'Grand Teton', 'Mesa Verde', 'Great Basin',\n",
       "       'Channel Islands', 'Canyonlands', 'Biscayne',\n",
       "       'Guadalupe Mountains', 'Kings Canyon', 'Zion', 'Haleakala',\n",
       "       'Capitol Reef', 'Joshua Tree', 'Theodore Roosevelt', 'Pinnacles',\n",
       "       'Virgin Islands', 'Rocky Mountain', 'Petrified Forest',\n",
       "       'Death Valley', 'Grand Canyon', 'Lassen Volcanic', 'Badlands',\n",
       "       'Cuyahoga Valley', 'Mount Rainier', 'Yosemite', 'Congaree',\n",
       "       'Saguaro', 'Wind Cave', 'Hot Springs', 'Denali',\n",
       "       'Gates of the Arctic', 'Glacier Bay', 'Katmai', 'Kenai Fjords',\n",
       "       'Kobuk Valley', 'Lake Clark', 'Wrangell-St. Elias',\n",
       "       'North Cascades', 'Great Sand Dunes',\n",
       "       'National Park of American Samoa', 'Glacier', 'Voyageurs'],\n",
       "      dtype=object)"
      ]
     },
     "execution_count": 78,
     "metadata": {},
     "output_type": "execute_result"
    }
   ],
   "source": [
    "nps[nps.unit_type == 'National Park']['parkname'].dropna().unique()"
   ]
  },
  {
   "cell_type": "code",
   "execution_count": 57,
   "metadata": {},
   "outputs": [
    {
     "data": {
      "text/plain": [
       "year   unit_type                            \n",
       "Total  Parkway                                 657,534,030.00\n",
       "       National Parkway                        194,245,179.50\n",
       "       National Recreation Area                123,971,858.41\n",
       "       Park                                    111,366,491.00\n",
       "       National Seashore                        84,084,268.40\n",
       "       National Park                            58,918,483.77\n",
       "       National Scenic Riverway                 44,262,013.00\n",
       "       National Military Park                   41,992,237.00\n",
       "       National Memorial                        40,468,312.21\n",
       "       National River                           35,193,221.50\n",
       "       National Lakeshore                       34,896,937.25\n",
       "       National Historical Park and Preserve    31,878,925.00\n",
       "       National Historical Park                 31,150,752.43\n",
       "       National Battlefield Park                27,699,547.25\n",
       "       Other Designation                        24,030,555.00\n",
       "       Ecological and Historic Preserve         18,018,607.00\n",
       "       National Monument                        14,903,513.41\n",
       "       National Battlefield                     12,523,972.42\n",
       "       National River and Recreation Area       11,068,695.50\n",
       "       Scenic and Recreational River             9,151,018.00\n",
       "       National Historic Site                    5,898,165.66\n",
       "       War in the Pacific                        4,752,911.00\n",
       "       National Preserve                         4,237,051.40\n",
       "       Wild and Scenic River                     2,842,225.00\n",
       "       National Reserve                          2,079,402.00\n",
       "       National Recreation River                 1,886,564.00\n",
       "       National Scenic River                     1,018,279.50\n",
       "       National Battlefield Site                    88,266.00\n",
       "       International Historic Site                  48,711.00\n",
       "       Valles Caldera National Preserve                   nan\n",
       "Name: visitors, dtype: float64"
      ]
     },
     "execution_count": 57,
     "metadata": {},
     "output_type": "execute_result"
    }
   ],
   "source": [
    "nps.groupby(['year', 'unit_type'])['visitors'].mean().tail(30).sort_values(ascending=False)"
   ]
  },
  {
   "cell_type": "markdown",
   "metadata": {},
   "source": [
    "## Git workflow"
   ]
  },
  {
   "cell_type": "markdown",
   "metadata": {},
   "source": [
    "I started a git repository on my local machine for this project and created a .gitignore file to tell git not to track data in CSV files\n",
    "\n",
    "- git init\n",
    "- vim .gitignore and then add *.csv\n",
    "- git add *\n",
    "- git commit -m 'initial commit'\n",
    "\n",
    "Then decided I wanted to push it up to Github.\n",
    "First, I need to login to Github and create a remote repo.  Then, on my local machine, I added the remote repo to my local repo with the following command:\n",
    "\n",
    "- *git remote add origin **URL path to github remote***\n",
    "\n",
    "Next I pushed the files from my local repo *up-stream* to the master branch on the remote repo which is named origin.  \n",
    "\n",
    "- *git push -u origin master*"
   ]
  }
 ],
 "metadata": {
  "kernelspec": {
   "display_name": "Python 3",
   "language": "python",
   "name": "python3"
  },
  "language_info": {
   "codemirror_mode": {
    "name": "ipython",
    "version": 3
   },
   "file_extension": ".py",
   "mimetype": "text/x-python",
   "name": "python",
   "nbconvert_exporter": "python",
   "pygments_lexer": "ipython3",
   "version": "3.6.9"
  }
 },
 "nbformat": 4,
 "nbformat_minor": 2
}
